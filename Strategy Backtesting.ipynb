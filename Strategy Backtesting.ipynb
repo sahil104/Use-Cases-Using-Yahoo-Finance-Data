{
 "cells": [
  {
   "cell_type": "code",
   "execution_count": 1,
   "id": "33a14ade",
   "metadata": {},
   "outputs": [],
   "source": [
    "import datetime as dt\n",
    "import matplotlib.pyplot as plt\n",
    "from matplotlib import style\n",
    "import datetime\n",
    "import numpy as np\n",
    "import yfinance as yf\n",
    "import pandas as pd\n",
    "import sklearn as skl\n",
    "import math as math\n",
    "import talib as talib"
   ]
  },
  {
   "cell_type": "code",
   "execution_count": 2,
   "id": "3c17de6b",
   "metadata": {},
   "outputs": [
    {
     "data": {
      "text/plain": [
       "'2022-01-15'"
      ]
     },
     "execution_count": 2,
     "metadata": {},
     "output_type": "execute_result"
    }
   ],
   "source": [
    "from datetime import datetime, timedelta\n",
    "tomorrow = datetime.today() + timedelta(1)\n",
    "tomorrow.strftime('%Y-%m-%d')"
   ]
  },
  {
   "cell_type": "code",
   "execution_count": 3,
   "id": "74514f1a",
   "metadata": {},
   "outputs": [
    {
     "name": "stdout",
     "output_type": "stream",
     "text": [
      "[*********************100%***********************]  1 of 1 completed\n"
     ]
    }
   ],
   "source": [
    "df = yf.download('^NSEI',start= \"2020-01-16\",end = tomorrow.strftime('%Y-%m-%d'), interval = '1h' )"
   ]
  },
  {
   "cell_type": "code",
   "execution_count": 4,
   "id": "6d05bf3d",
   "metadata": {},
   "outputs": [],
   "source": [
    "df['Index'] = df.index\n",
    "date = df.index\n",
    "\n",
    "df['Time'] = date.strftime(\"%H:%M:%S\")\n",
    "df['Date'] = date.strftime(\"%m/%d/%Y\")\n",
    "\n",
    "df_fin = df.drop(['Index'], axis = 1)\n",
    "\n",
    "##Flag for open\n",
    "df_fin.loc[df['Time'] == \"09:15:00\", 'Open_flag'] = 1\n",
    "df_fin.loc[df['Time'] != \"09:15:00\", 'Open_flag'] = 0\n",
    "df_fin['Row_Cnt'] = np.arange(len(df_fin))"
   ]
  },
  {
   "cell_type": "code",
   "execution_count": 5,
   "id": "6839cdea",
   "metadata": {},
   "outputs": [
    {
     "data": {
      "text/html": [
       "<div>\n",
       "<style scoped>\n",
       "    .dataframe tbody tr th:only-of-type {\n",
       "        vertical-align: middle;\n",
       "    }\n",
       "\n",
       "    .dataframe tbody tr th {\n",
       "        vertical-align: top;\n",
       "    }\n",
       "\n",
       "    .dataframe thead th {\n",
       "        text-align: right;\n",
       "    }\n",
       "</style>\n",
       "<table border=\"1\" class=\"dataframe\">\n",
       "  <thead>\n",
       "    <tr style=\"text-align: right;\">\n",
       "      <th></th>\n",
       "      <th>Open</th>\n",
       "      <th>High</th>\n",
       "      <th>Low</th>\n",
       "      <th>Close</th>\n",
       "      <th>Adj Close</th>\n",
       "      <th>Volume</th>\n",
       "      <th>Index</th>\n",
       "      <th>Time</th>\n",
       "      <th>Date</th>\n",
       "    </tr>\n",
       "  </thead>\n",
       "  <tbody>\n",
       "    <tr>\n",
       "      <th>2020-01-16 09:15:00+05:30</th>\n",
       "      <td>12347.099609</td>\n",
       "      <td>12389.000000</td>\n",
       "      <td>12345.700195</td>\n",
       "      <td>12371.400391</td>\n",
       "      <td>12371.400391</td>\n",
       "      <td>0</td>\n",
       "      <td>2020-01-16 09:15:00+05:30</td>\n",
       "      <td>09:15:00</td>\n",
       "      <td>01/16/2020</td>\n",
       "    </tr>\n",
       "    <tr>\n",
       "      <th>2020-01-16 10:15:00+05:30</th>\n",
       "      <td>12377.900391</td>\n",
       "      <td>12381.150391</td>\n",
       "      <td>12315.849609</td>\n",
       "      <td>12321.400391</td>\n",
       "      <td>12321.400391</td>\n",
       "      <td>0</td>\n",
       "      <td>2020-01-16 10:15:00+05:30</td>\n",
       "      <td>10:15:00</td>\n",
       "      <td>01/16/2020</td>\n",
       "    </tr>\n",
       "    <tr>\n",
       "      <th>2020-01-16 11:15:00+05:30</th>\n",
       "      <td>12338.200195</td>\n",
       "      <td>12339.200195</td>\n",
       "      <td>12315.849609</td>\n",
       "      <td>12330.650391</td>\n",
       "      <td>12330.650391</td>\n",
       "      <td>0</td>\n",
       "      <td>2020-01-16 11:15:00+05:30</td>\n",
       "      <td>11:15:00</td>\n",
       "      <td>01/16/2020</td>\n",
       "    </tr>\n",
       "    <tr>\n",
       "      <th>2020-01-16 12:15:00+05:30</th>\n",
       "      <td>12332.599609</td>\n",
       "      <td>12356.450195</td>\n",
       "      <td>12321.650391</td>\n",
       "      <td>12354.900391</td>\n",
       "      <td>12354.900391</td>\n",
       "      <td>0</td>\n",
       "      <td>2020-01-16 12:15:00+05:30</td>\n",
       "      <td>12:15:00</td>\n",
       "      <td>01/16/2020</td>\n",
       "    </tr>\n",
       "    <tr>\n",
       "      <th>2020-01-16 13:15:00+05:30</th>\n",
       "      <td>12337.049805</td>\n",
       "      <td>12368.049805</td>\n",
       "      <td>12337.049805</td>\n",
       "      <td>12364.400391</td>\n",
       "      <td>12364.400391</td>\n",
       "      <td>0</td>\n",
       "      <td>2020-01-16 13:15:00+05:30</td>\n",
       "      <td>13:15:00</td>\n",
       "      <td>01/16/2020</td>\n",
       "    </tr>\n",
       "  </tbody>\n",
       "</table>\n",
       "</div>"
      ],
      "text/plain": [
       "                                   Open          High           Low  \\\n",
       "2020-01-16 09:15:00+05:30  12347.099609  12389.000000  12345.700195   \n",
       "2020-01-16 10:15:00+05:30  12377.900391  12381.150391  12315.849609   \n",
       "2020-01-16 11:15:00+05:30  12338.200195  12339.200195  12315.849609   \n",
       "2020-01-16 12:15:00+05:30  12332.599609  12356.450195  12321.650391   \n",
       "2020-01-16 13:15:00+05:30  12337.049805  12368.049805  12337.049805   \n",
       "\n",
       "                                  Close     Adj Close  Volume  \\\n",
       "2020-01-16 09:15:00+05:30  12371.400391  12371.400391       0   \n",
       "2020-01-16 10:15:00+05:30  12321.400391  12321.400391       0   \n",
       "2020-01-16 11:15:00+05:30  12330.650391  12330.650391       0   \n",
       "2020-01-16 12:15:00+05:30  12354.900391  12354.900391       0   \n",
       "2020-01-16 13:15:00+05:30  12364.400391  12364.400391       0   \n",
       "\n",
       "                                              Index      Time        Date  \n",
       "2020-01-16 09:15:00+05:30 2020-01-16 09:15:00+05:30  09:15:00  01/16/2020  \n",
       "2020-01-16 10:15:00+05:30 2020-01-16 10:15:00+05:30  10:15:00  01/16/2020  \n",
       "2020-01-16 11:15:00+05:30 2020-01-16 11:15:00+05:30  11:15:00  01/16/2020  \n",
       "2020-01-16 12:15:00+05:30 2020-01-16 12:15:00+05:30  12:15:00  01/16/2020  \n",
       "2020-01-16 13:15:00+05:30 2020-01-16 13:15:00+05:30  13:15:00  01/16/2020  "
      ]
     },
     "execution_count": 5,
     "metadata": {},
     "output_type": "execute_result"
    }
   ],
   "source": [
    "df.head()"
   ]
  },
  {
   "cell_type": "code",
   "execution_count": 6,
   "id": "3a028fa7",
   "metadata": {},
   "outputs": [
    {
     "data": {
      "text/html": [
       "<div>\n",
       "<style scoped>\n",
       "    .dataframe tbody tr th:only-of-type {\n",
       "        vertical-align: middle;\n",
       "    }\n",
       "\n",
       "    .dataframe tbody tr th {\n",
       "        vertical-align: top;\n",
       "    }\n",
       "\n",
       "    .dataframe thead th {\n",
       "        text-align: right;\n",
       "    }\n",
       "</style>\n",
       "<table border=\"1\" class=\"dataframe\">\n",
       "  <thead>\n",
       "    <tr style=\"text-align: right;\">\n",
       "      <th></th>\n",
       "      <th>Open</th>\n",
       "      <th>High</th>\n",
       "      <th>Low</th>\n",
       "      <th>Close</th>\n",
       "      <th>Adj Close</th>\n",
       "      <th>Volume</th>\n",
       "      <th>Index</th>\n",
       "      <th>Time</th>\n",
       "      <th>Date</th>\n",
       "    </tr>\n",
       "  </thead>\n",
       "  <tbody>\n",
       "    <tr>\n",
       "      <th>2022-01-14 11:15:00+05:30</th>\n",
       "      <td>18185.949219</td>\n",
       "      <td>18197.900391</td>\n",
       "      <td>18141.650391</td>\n",
       "      <td>18195.750000</td>\n",
       "      <td>18195.750000</td>\n",
       "      <td>0</td>\n",
       "      <td>2022-01-14 11:15:00+05:30</td>\n",
       "      <td>11:15:00</td>\n",
       "      <td>01/14/2022</td>\n",
       "    </tr>\n",
       "    <tr>\n",
       "      <th>2022-01-14 12:15:00+05:30</th>\n",
       "      <td>18195.900391</td>\n",
       "      <td>18226.500000</td>\n",
       "      <td>18179.849609</td>\n",
       "      <td>18218.300781</td>\n",
       "      <td>18218.300781</td>\n",
       "      <td>0</td>\n",
       "      <td>2022-01-14 12:15:00+05:30</td>\n",
       "      <td>12:15:00</td>\n",
       "      <td>01/14/2022</td>\n",
       "    </tr>\n",
       "    <tr>\n",
       "      <th>2022-01-14 13:15:00+05:30</th>\n",
       "      <td>18218.449219</td>\n",
       "      <td>18251.150391</td>\n",
       "      <td>18210.750000</td>\n",
       "      <td>18226.400391</td>\n",
       "      <td>18226.400391</td>\n",
       "      <td>0</td>\n",
       "      <td>2022-01-14 13:15:00+05:30</td>\n",
       "      <td>13:15:00</td>\n",
       "      <td>01/14/2022</td>\n",
       "    </tr>\n",
       "    <tr>\n",
       "      <th>2022-01-14 14:15:00+05:30</th>\n",
       "      <td>18227.150391</td>\n",
       "      <td>18286.599609</td>\n",
       "      <td>18217.500000</td>\n",
       "      <td>18255.199219</td>\n",
       "      <td>18255.199219</td>\n",
       "      <td>0</td>\n",
       "      <td>2022-01-14 14:15:00+05:30</td>\n",
       "      <td>14:15:00</td>\n",
       "      <td>01/14/2022</td>\n",
       "    </tr>\n",
       "    <tr>\n",
       "      <th>2022-01-14 15:15:00+05:30</th>\n",
       "      <td>18255.000000</td>\n",
       "      <td>18258.800781</td>\n",
       "      <td>18233.150391</td>\n",
       "      <td>18235.500000</td>\n",
       "      <td>18235.500000</td>\n",
       "      <td>0</td>\n",
       "      <td>2022-01-14 15:15:00+05:30</td>\n",
       "      <td>15:15:00</td>\n",
       "      <td>01/14/2022</td>\n",
       "    </tr>\n",
       "  </tbody>\n",
       "</table>\n",
       "</div>"
      ],
      "text/plain": [
       "                                   Open          High           Low  \\\n",
       "2022-01-14 11:15:00+05:30  18185.949219  18197.900391  18141.650391   \n",
       "2022-01-14 12:15:00+05:30  18195.900391  18226.500000  18179.849609   \n",
       "2022-01-14 13:15:00+05:30  18218.449219  18251.150391  18210.750000   \n",
       "2022-01-14 14:15:00+05:30  18227.150391  18286.599609  18217.500000   \n",
       "2022-01-14 15:15:00+05:30  18255.000000  18258.800781  18233.150391   \n",
       "\n",
       "                                  Close     Adj Close  Volume  \\\n",
       "2022-01-14 11:15:00+05:30  18195.750000  18195.750000       0   \n",
       "2022-01-14 12:15:00+05:30  18218.300781  18218.300781       0   \n",
       "2022-01-14 13:15:00+05:30  18226.400391  18226.400391       0   \n",
       "2022-01-14 14:15:00+05:30  18255.199219  18255.199219       0   \n",
       "2022-01-14 15:15:00+05:30  18235.500000  18235.500000       0   \n",
       "\n",
       "                                              Index      Time        Date  \n",
       "2022-01-14 11:15:00+05:30 2022-01-14 11:15:00+05:30  11:15:00  01/14/2022  \n",
       "2022-01-14 12:15:00+05:30 2022-01-14 12:15:00+05:30  12:15:00  01/14/2022  \n",
       "2022-01-14 13:15:00+05:30 2022-01-14 13:15:00+05:30  13:15:00  01/14/2022  \n",
       "2022-01-14 14:15:00+05:30 2022-01-14 14:15:00+05:30  14:15:00  01/14/2022  \n",
       "2022-01-14 15:15:00+05:30 2022-01-14 15:15:00+05:30  15:15:00  01/14/2022  "
      ]
     },
     "execution_count": 6,
     "metadata": {},
     "output_type": "execute_result"
    }
   ],
   "source": [
    "df.tail()"
   ]
  },
  {
   "cell_type": "code",
   "execution_count": 7,
   "id": "f7d41565",
   "metadata": {},
   "outputs": [],
   "source": [
    "##Independent Variables\n",
    "#EMA 8-21 Gap\n",
    "#EMA 21-100 Gap\n",
    "#RSI\n",
    "#ADX - Positive DI Negative DI\n",
    "\n",
    "\n",
    "#Dependent Variable\n",
    "#Returns Next 5 candles\n",
    "#Returns Next 10 candles\n",
    "#Returns Next 15 candles\n",
    "#Some kind of average of these"
   ]
  },
  {
   "cell_type": "code",
   "execution_count": 8,
   "id": "6cdb0000",
   "metadata": {},
   "outputs": [
    {
     "ename": "SyntaxError",
     "evalue": "invalid syntax (<ipython-input-8-2efea316f2cf>, line 1)",
     "output_type": "error",
     "traceback": [
      "\u001b[1;36m  File \u001b[1;32m\"<ipython-input-8-2efea316f2cf>\"\u001b[1;36m, line \u001b[1;32m1\u001b[0m\n\u001b[1;33m    df_fin['Close'].\u001b[0m\n\u001b[1;37m                    ^\u001b[0m\n\u001b[1;31mSyntaxError\u001b[0m\u001b[1;31m:\u001b[0m invalid syntax\n"
     ]
    }
   ],
   "source": [
    "df_fin['Close']."
   ]
  },
  {
   "cell_type": "code",
   "execution_count": 15,
   "id": "f55981e9",
   "metadata": {},
   "outputs": [],
   "source": [
    "df_fin.to_csv('test_file.csv')"
   ]
  },
  {
   "cell_type": "code",
   "execution_count": 8,
   "id": "265ce01d",
   "metadata": {},
   "outputs": [],
   "source": [
    "##Return\n",
    "df_fin['Change'] = df_fin['Close'].diff()\n",
    "df_fin['Change_Perc'] = df_fin['Close'].diff()/df_fin['Close'].shift()\n",
    "df_fin['Open_Close_Change'] =  df_fin['Close'] - df_fin['Open'] \n",
    "df_fin['Perc_Change_Five'] = df_fin['Close'].diff(-5)/df_fin['Close']\n",
    "df_fin['Perc_Change_Ten'] = df_fin['Close'].diff(-10)/df_fin['Close']\n",
    "df_fin['Perc_Change_Fifteen'] = df_fin['Close'].diff(-15)/df_fin['Close']\n",
    "df_fin['Perc_Change_Twenty'] = df_fin['Close'].diff(-20)/df_fin['Close']\n",
    "\n",
    "df_fin['Avg_Change'] = (df_fin['Perc_Change_Five'] + df_fin['Perc_Change_Ten'] + df_fin['Perc_Change_Fifteen'] + df_fin['Perc_Change_Twenty'])/4"
   ]
  },
  {
   "cell_type": "code",
   "execution_count": 10,
   "id": "57eabb41",
   "metadata": {},
   "outputs": [],
   "source": [
    "##Independent Variables Pull"
   ]
  },
  {
   "cell_type": "code",
   "execution_count": 9,
   "id": "4682071e",
   "metadata": {},
   "outputs": [],
   "source": [
    "#Trend\n",
    "\n",
    "#MA 8-21 Gap\n",
    "\n",
    "##EMA \n",
    "df_fin['EMA_8'] = df_fin['Close'].ewm(span=8).mean()\n",
    "df_fin['EMA_21'] = df_fin['Close'].ewm(span=21).mean()\n",
    "df_fin['EMA_8_21_GAP'] = df_fin['Close'].ewm(span=21).mean() - df_fin['Close'].ewm(span=8).mean()\n",
    "df_fin['EMA_8_21_GAP_Perc'] = (df_fin['Close'].ewm(span=21).mean() - df_fin['Close'].ewm(span=8).mean())/df_fin['Close'].ewm(span=8).mean()\n",
    "\n"
   ]
  },
  {
   "cell_type": "code",
   "execution_count": 11,
   "id": "f53f52de",
   "metadata": {},
   "outputs": [
    {
     "ename": "KeyError",
     "evalue": "\"None of [Index(['SMA_8', 'SMA_21', 'SMA_8_21_GAP', 'SMA_8_21_GAP_Perc'], dtype='object')] are in the [columns]\"",
     "output_type": "error",
     "traceback": [
      "\u001b[1;31m---------------------------------------------------------------------------\u001b[0m",
      "\u001b[1;31mKeyError\u001b[0m                                  Traceback (most recent call last)",
      "\u001b[1;32m<ipython-input-11-7297c3aca884>\u001b[0m in \u001b[0;36m<module>\u001b[1;34m\u001b[0m\n\u001b[1;32m----> 1\u001b[1;33m \u001b[0mdf_fin\u001b[0m\u001b[1;33m[\u001b[0m\u001b[1;33m[\u001b[0m\u001b[1;34m'SMA_8'\u001b[0m\u001b[1;33m,\u001b[0m\u001b[1;34m'SMA_21'\u001b[0m\u001b[1;33m,\u001b[0m\u001b[1;34m'SMA_8_21_GAP'\u001b[0m\u001b[1;33m,\u001b[0m\u001b[1;34m'SMA_8_21_GAP_Perc'\u001b[0m\u001b[1;33m]\u001b[0m\u001b[1;33m]\u001b[0m\u001b[1;33m.\u001b[0m\u001b[0mtail\u001b[0m\u001b[1;33m(\u001b[0m\u001b[1;33m)\u001b[0m\u001b[1;33m\u001b[0m\u001b[1;33m\u001b[0m\u001b[0m\n\u001b[0m",
      "\u001b[1;32m~\\anaconda3\\lib\\site-packages\\pandas\\core\\frame.py\u001b[0m in \u001b[0;36m__getitem__\u001b[1;34m(self, key)\u001b[0m\n\u001b[0;32m   3028\u001b[0m             \u001b[1;32mif\u001b[0m \u001b[0mis_iterator\u001b[0m\u001b[1;33m(\u001b[0m\u001b[0mkey\u001b[0m\u001b[1;33m)\u001b[0m\u001b[1;33m:\u001b[0m\u001b[1;33m\u001b[0m\u001b[1;33m\u001b[0m\u001b[0m\n\u001b[0;32m   3029\u001b[0m                 \u001b[0mkey\u001b[0m \u001b[1;33m=\u001b[0m \u001b[0mlist\u001b[0m\u001b[1;33m(\u001b[0m\u001b[0mkey\u001b[0m\u001b[1;33m)\u001b[0m\u001b[1;33m\u001b[0m\u001b[1;33m\u001b[0m\u001b[0m\n\u001b[1;32m-> 3030\u001b[1;33m             \u001b[0mindexer\u001b[0m \u001b[1;33m=\u001b[0m \u001b[0mself\u001b[0m\u001b[1;33m.\u001b[0m\u001b[0mloc\u001b[0m\u001b[1;33m.\u001b[0m\u001b[0m_get_listlike_indexer\u001b[0m\u001b[1;33m(\u001b[0m\u001b[0mkey\u001b[0m\u001b[1;33m,\u001b[0m \u001b[0maxis\u001b[0m\u001b[1;33m=\u001b[0m\u001b[1;36m1\u001b[0m\u001b[1;33m,\u001b[0m \u001b[0mraise_missing\u001b[0m\u001b[1;33m=\u001b[0m\u001b[1;32mTrue\u001b[0m\u001b[1;33m)\u001b[0m\u001b[1;33m[\u001b[0m\u001b[1;36m1\u001b[0m\u001b[1;33m]\u001b[0m\u001b[1;33m\u001b[0m\u001b[1;33m\u001b[0m\u001b[0m\n\u001b[0m\u001b[0;32m   3031\u001b[0m \u001b[1;33m\u001b[0m\u001b[0m\n\u001b[0;32m   3032\u001b[0m         \u001b[1;31m# take() does not accept boolean indexers\u001b[0m\u001b[1;33m\u001b[0m\u001b[1;33m\u001b[0m\u001b[1;33m\u001b[0m\u001b[0m\n",
      "\u001b[1;32m~\\anaconda3\\lib\\site-packages\\pandas\\core\\indexing.py\u001b[0m in \u001b[0;36m_get_listlike_indexer\u001b[1;34m(self, key, axis, raise_missing)\u001b[0m\n\u001b[0;32m   1264\u001b[0m             \u001b[0mkeyarr\u001b[0m\u001b[1;33m,\u001b[0m \u001b[0mindexer\u001b[0m\u001b[1;33m,\u001b[0m \u001b[0mnew_indexer\u001b[0m \u001b[1;33m=\u001b[0m \u001b[0max\u001b[0m\u001b[1;33m.\u001b[0m\u001b[0m_reindex_non_unique\u001b[0m\u001b[1;33m(\u001b[0m\u001b[0mkeyarr\u001b[0m\u001b[1;33m)\u001b[0m\u001b[1;33m\u001b[0m\u001b[1;33m\u001b[0m\u001b[0m\n\u001b[0;32m   1265\u001b[0m \u001b[1;33m\u001b[0m\u001b[0m\n\u001b[1;32m-> 1266\u001b[1;33m         \u001b[0mself\u001b[0m\u001b[1;33m.\u001b[0m\u001b[0m_validate_read_indexer\u001b[0m\u001b[1;33m(\u001b[0m\u001b[0mkeyarr\u001b[0m\u001b[1;33m,\u001b[0m \u001b[0mindexer\u001b[0m\u001b[1;33m,\u001b[0m \u001b[0maxis\u001b[0m\u001b[1;33m,\u001b[0m \u001b[0mraise_missing\u001b[0m\u001b[1;33m=\u001b[0m\u001b[0mraise_missing\u001b[0m\u001b[1;33m)\u001b[0m\u001b[1;33m\u001b[0m\u001b[1;33m\u001b[0m\u001b[0m\n\u001b[0m\u001b[0;32m   1267\u001b[0m         \u001b[1;32mreturn\u001b[0m \u001b[0mkeyarr\u001b[0m\u001b[1;33m,\u001b[0m \u001b[0mindexer\u001b[0m\u001b[1;33m\u001b[0m\u001b[1;33m\u001b[0m\u001b[0m\n\u001b[0;32m   1268\u001b[0m \u001b[1;33m\u001b[0m\u001b[0m\n",
      "\u001b[1;32m~\\anaconda3\\lib\\site-packages\\pandas\\core\\indexing.py\u001b[0m in \u001b[0;36m_validate_read_indexer\u001b[1;34m(self, key, indexer, axis, raise_missing)\u001b[0m\n\u001b[0;32m   1306\u001b[0m             \u001b[1;32mif\u001b[0m \u001b[0mmissing\u001b[0m \u001b[1;33m==\u001b[0m \u001b[0mlen\u001b[0m\u001b[1;33m(\u001b[0m\u001b[0mindexer\u001b[0m\u001b[1;33m)\u001b[0m\u001b[1;33m:\u001b[0m\u001b[1;33m\u001b[0m\u001b[1;33m\u001b[0m\u001b[0m\n\u001b[0;32m   1307\u001b[0m                 \u001b[0maxis_name\u001b[0m \u001b[1;33m=\u001b[0m \u001b[0mself\u001b[0m\u001b[1;33m.\u001b[0m\u001b[0mobj\u001b[0m\u001b[1;33m.\u001b[0m\u001b[0m_get_axis_name\u001b[0m\u001b[1;33m(\u001b[0m\u001b[0maxis\u001b[0m\u001b[1;33m)\u001b[0m\u001b[1;33m\u001b[0m\u001b[1;33m\u001b[0m\u001b[0m\n\u001b[1;32m-> 1308\u001b[1;33m                 \u001b[1;32mraise\u001b[0m \u001b[0mKeyError\u001b[0m\u001b[1;33m(\u001b[0m\u001b[1;34mf\"None of [{key}] are in the [{axis_name}]\"\u001b[0m\u001b[1;33m)\u001b[0m\u001b[1;33m\u001b[0m\u001b[1;33m\u001b[0m\u001b[0m\n\u001b[0m\u001b[0;32m   1309\u001b[0m \u001b[1;33m\u001b[0m\u001b[0m\n\u001b[0;32m   1310\u001b[0m             \u001b[0max\u001b[0m \u001b[1;33m=\u001b[0m \u001b[0mself\u001b[0m\u001b[1;33m.\u001b[0m\u001b[0mobj\u001b[0m\u001b[1;33m.\u001b[0m\u001b[0m_get_axis\u001b[0m\u001b[1;33m(\u001b[0m\u001b[0maxis\u001b[0m\u001b[1;33m)\u001b[0m\u001b[1;33m\u001b[0m\u001b[1;33m\u001b[0m\u001b[0m\n",
      "\u001b[1;31mKeyError\u001b[0m: \"None of [Index(['SMA_8', 'SMA_21', 'SMA_8_21_GAP', 'SMA_8_21_GAP_Perc'], dtype='object')] are in the [columns]\""
     ]
    }
   ],
   "source": [
    "df_fin[['SMA_8','SMA_21','SMA_8_21_GAP','SMA_8_21_GAP_Perc']].tail()"
   ]
  },
  {
   "cell_type": "code",
   "execution_count": 12,
   "id": "0dc55d8f",
   "metadata": {},
   "outputs": [
    {
     "data": {
      "text/html": [
       "<div>\n",
       "<style scoped>\n",
       "    .dataframe tbody tr th:only-of-type {\n",
       "        vertical-align: middle;\n",
       "    }\n",
       "\n",
       "    .dataframe tbody tr th {\n",
       "        vertical-align: top;\n",
       "    }\n",
       "\n",
       "    .dataframe thead th {\n",
       "        text-align: right;\n",
       "    }\n",
       "</style>\n",
       "<table border=\"1\" class=\"dataframe\">\n",
       "  <thead>\n",
       "    <tr style=\"text-align: right;\">\n",
       "      <th></th>\n",
       "      <th>EMA_8</th>\n",
       "      <th>EMA_21</th>\n",
       "      <th>EMA_8_21_GAP</th>\n",
       "      <th>EMA_8_21_GAP_Perc</th>\n",
       "    </tr>\n",
       "  </thead>\n",
       "  <tbody>\n",
       "    <tr>\n",
       "      <th>2022-01-14 11:15:00+05:30</th>\n",
       "      <td>18210.176019</td>\n",
       "      <td>18161.149856</td>\n",
       "      <td>-49.026162</td>\n",
       "      <td>-0.002692</td>\n",
       "    </tr>\n",
       "    <tr>\n",
       "      <th>2022-01-14 12:15:00+05:30</th>\n",
       "      <td>18211.981521</td>\n",
       "      <td>18166.345395</td>\n",
       "      <td>-45.636127</td>\n",
       "      <td>-0.002506</td>\n",
       "    </tr>\n",
       "    <tr>\n",
       "      <th>2022-01-14 13:15:00+05:30</th>\n",
       "      <td>18215.185715</td>\n",
       "      <td>18171.804940</td>\n",
       "      <td>-43.380775</td>\n",
       "      <td>-0.002382</td>\n",
       "    </tr>\n",
       "    <tr>\n",
       "      <th>2022-01-14 14:15:00+05:30</th>\n",
       "      <td>18224.077604</td>\n",
       "      <td>18179.386238</td>\n",
       "      <td>-44.691366</td>\n",
       "      <td>-0.002452</td>\n",
       "    </tr>\n",
       "    <tr>\n",
       "      <th>2022-01-14 15:15:00+05:30</th>\n",
       "      <td>18226.615915</td>\n",
       "      <td>18184.487489</td>\n",
       "      <td>-42.128425</td>\n",
       "      <td>-0.002311</td>\n",
       "    </tr>\n",
       "  </tbody>\n",
       "</table>\n",
       "</div>"
      ],
      "text/plain": [
       "                                  EMA_8        EMA_21  EMA_8_21_GAP  \\\n",
       "2022-01-14 11:15:00+05:30  18210.176019  18161.149856    -49.026162   \n",
       "2022-01-14 12:15:00+05:30  18211.981521  18166.345395    -45.636127   \n",
       "2022-01-14 13:15:00+05:30  18215.185715  18171.804940    -43.380775   \n",
       "2022-01-14 14:15:00+05:30  18224.077604  18179.386238    -44.691366   \n",
       "2022-01-14 15:15:00+05:30  18226.615915  18184.487489    -42.128425   \n",
       "\n",
       "                           EMA_8_21_GAP_Perc  \n",
       "2022-01-14 11:15:00+05:30          -0.002692  \n",
       "2022-01-14 12:15:00+05:30          -0.002506  \n",
       "2022-01-14 13:15:00+05:30          -0.002382  \n",
       "2022-01-14 14:15:00+05:30          -0.002452  \n",
       "2022-01-14 15:15:00+05:30          -0.002311  "
      ]
     },
     "execution_count": 12,
     "metadata": {},
     "output_type": "execute_result"
    }
   ],
   "source": [
    "df_fin[['EMA_8','EMA_21','EMA_8_21_GAP','EMA_8_21_GAP_Perc']].tail()"
   ]
  },
  {
   "cell_type": "code",
   "execution_count": 11,
   "id": "270ac17f",
   "metadata": {},
   "outputs": [],
   "source": [
    "#Momentum\n",
    "Close = df_fin.Close\n",
    "High = df_fin.High\n",
    "Low = df_fin.Low\n",
    "Open = df_fin.Open\n",
    "df_fin['ADX'] = talib.ADX(High, Low, Close, timeperiod = 14)\n",
    "df_fin['PLUS_DI'] = talib.PLUS_DI(High, Low, Close, timeperiod=14)\n",
    "df_fin['MINUS_DI'] = talib.MINUS_DI(High, Low, Close, timeperiod=14)\n",
    "df_fin['CCI'] = talib.CCI(High, Low, Close, timeperiod=14)\n",
    "df_fin['BOP'] = talib.BOP(Open, High, Low, Close)\n",
    "df_fin['BOP'] = talib.MOM(Close, timeperiod=14)\n",
    "df_fin['BOP'] = talib.ROCP(Close, timeperiod=14)\n",
    "df_fin['NATR'] = talib.NATR(High, Low, Close, timeperiod=14)\n"
   ]
  },
  {
   "cell_type": "code",
   "execution_count": 12,
   "id": "e21ae881",
   "metadata": {},
   "outputs": [],
   "source": [
    "#Trend\n",
    "df_fin['RSI'] = talib.RSI(Close, timeperiod=14) / talib.RSI(Close, timeperiod=14).mean()\n",
    "\n",
    "upperband, middleband, lowerband = talib.BBANDS(Close, timeperiod=5, nbdevup=2, nbdevdn=2, matype=0)\n",
    "df_fin['BB_UPPER_LOWER_DIFF'] = (upperband - lowerband)/Close\n"
   ]
  },
  {
   "cell_type": "code",
   "execution_count": 13,
   "id": "71962502",
   "metadata": {},
   "outputs": [],
   "source": [
    "df_fin.dropna(axis = 0, how = 'any', inplace = True)"
   ]
  },
  {
   "cell_type": "code",
   "execution_count": 20,
   "id": "4872d4a3",
   "metadata": {},
   "outputs": [],
   "source": [
    "df_fin.head()\n",
    "df_fin.to_csv('nifty_testing_file2.csv')"
   ]
  },
  {
   "cell_type": "code",
   "execution_count": 16,
   "id": "02313d18",
   "metadata": {},
   "outputs": [
    {
     "data": {
      "text/plain": [
       "<AxesSubplot:>"
      ]
     },
     "execution_count": 16,
     "metadata": {},
     "output_type": "execute_result"
    },
    {
     "data": {
      "image/png": "[encoded data removed]",
      "text/plain": [
       "<Figure size 1152x576 with 1 Axes>"
      ]
     },
     "metadata": {
      "needs_background": "light"
     },
     "output_type": "display_data"
    }
   ],
   "source": [
    "df_fin[['Perc_Change_Five', 'Perc_Change_Ten','Perc_Change_Fifteen','Perc_Change_Twenty','Avg_Change']].plot(label='Returns', \n",
    "                                  figsize=(16, 8))"
   ]
  },
  {
   "cell_type": "code",
   "execution_count": 19,
   "id": "de0025e0",
   "metadata": {},
   "outputs": [
    {
     "data": {
      "text/plain": [
       "<AxesSubplot:>"
      ]
     },
     "execution_count": 19,
     "metadata": {},
     "output_type": "execute_result"
    },
    {
     "data": {
      "image/png": "[encoded data removed]",
      "text/plain": [
       "<Figure size 1152x576 with 1 Axes>"
      ]
     },
     "metadata": {
      "needs_background": "light"
     },
     "output_type": "display_data"
    }
   ],
   "source": [
    "df_fin[['Avg_Change','EMA_8_21_GAP_Perc']].plot(label='Returns', \n",
    "                                  figsize=(16, 8))"
   ]
  },
  {
   "cell_type": "code",
   "execution_count": 17,
   "id": "406dd9d7",
   "metadata": {},
   "outputs": [
    {
     "ename": "NameError",
     "evalue": "name 'X_Test' is not defined",
     "output_type": "error",
     "traceback": [
      "\u001b[1;31m---------------------------------------------------------------------------\u001b[0m",
      "\u001b[1;31mNameError\u001b[0m                                 Traceback (most recent call last)",
      "\u001b[1;32m<ipython-input-17-341138b70e63>\u001b[0m in \u001b[0;36m<module>\u001b[1;34m\u001b[0m\n\u001b[1;32m----> 1\u001b[1;33m \u001b[0mX_Test\u001b[0m\u001b[1;33m[\u001b[0m\u001b[1;34m'EMA_8_21_GAP_Perc'\u001b[0m\u001b[1;33m]\u001b[0m\u001b[1;33m.\u001b[0m\u001b[0mcorr\u001b[0m\u001b[1;33m(\u001b[0m\u001b[0mY_Test\u001b[0m\u001b[1;33m[\u001b[0m\u001b[1;34m'Avg_Change'\u001b[0m\u001b[1;33m]\u001b[0m\u001b[1;33m)\u001b[0m\u001b[1;33m\u001b[0m\u001b[1;33m\u001b[0m\u001b[0m\n\u001b[0m",
      "\u001b[1;31mNameError\u001b[0m: name 'X_Test' is not defined"
     ]
    }
   ],
   "source": [
    "X_Test['EMA_8_21_GAP_Perc'].corr(Y_Test['Avg_Change'])"
   ]
  },
  {
   "cell_type": "code",
   "execution_count": 14,
   "id": "545f881f",
   "metadata": {},
   "outputs": [],
   "source": [
    "df_fin['ADX'] = df_fin['ADX']/100\n",
    "df_fin['CCI'] = df_fin['CCI']/100"
   ]
  },
  {
   "cell_type": "code",
   "execution_count": 15,
   "id": "118aab54",
   "metadata": {},
   "outputs": [],
   "source": [
    "#Create Train & Test\n",
    "df_fin_train = df_fin[df_fin['Row_Cnt'] <= 2800]\n",
    "df_fin_test = df_fin[df_fin['Row_Cnt'] > 2800]"
   ]
  },
  {
   "cell_type": "code",
   "execution_count": 17,
   "id": "f6366183",
   "metadata": {},
   "outputs": [],
   "source": [
    "X_Train = df_fin_train[['EMA_8_21_GAP_Perc', 'ADX',  'CCI',  'BB_UPPER_LOWER_DIFF','NATR']]\n",
    "Y_Train = df_fin_train[['Avg_Change']]\n",
    "X_Test = df_fin_test[['EMA_8_21_GAP_Perc', 'ADX',  'CCI',  'BB_UPPER_LOWER_DIFF','NATR']]\n",
    "Y_Test = df_fin_test[['Avg_Change']]\n",
    "#'PLUS_DI', 'MINUS_DI','BOP', 'RSI',"
   ]
  },
  {
   "cell_type": "code",
   "execution_count": 18,
   "id": "2bffa08a",
   "metadata": {},
   "outputs": [
    {
     "name": "stdout",
     "output_type": "stream",
     "text": [
      "Mean MAE: 0.012 (0.001)\n"
     ]
    }
   ],
   "source": [
    "from sklearn.model_selection import cross_val_score\n",
    "from sklearn.model_selection import RepeatedKFold\n",
    "from sklearn.linear_model import Ridge\n",
    "from numpy import mean\n",
    "from numpy import std\n",
    "from numpy import absolute\n",
    "\n",
    "# define model\n",
    "model1 = Ridge(alpha=0)\n",
    "# define model evaluation method\n",
    "cv = RepeatedKFold(n_splits=10, n_repeats=3, random_state=1)\n",
    "# evaluate model\n",
    "scores = cross_val_score(model1, X_Train, Y_Train, scoring='neg_mean_absolute_error', cv=cv, n_jobs=-1)\n",
    "# force scores to be positive\n",
    "scores = absolute(scores)\n",
    "print('Mean MAE: %.3f (%.3f)' % (mean(scores), std(scores)))\n",
    "\n",
    "model1.fit(X_Train, Y_Train)\n",
    "\n",
    "y_hat = model1.predict(X_Test)\n",
    "y_true = np.squeeze(Y_Test.values)"
   ]
  },
  {
   "cell_type": "code",
   "execution_count": 19,
   "id": "916e03d8",
   "metadata": {},
   "outputs": [
    {
     "name": "stdout",
     "output_type": "stream",
     "text": [
      "MAE: -0.012\n",
      "Config: {'alpha': 0.0}\n"
     ]
    }
   ],
   "source": [
    "# grid search hyperparameters for ridge regression\n",
    "from numpy import arange\n",
    "from pandas import read_csv\n",
    "from sklearn.model_selection import GridSearchCV\n",
    "from sklearn.model_selection import RepeatedKFold\n",
    "from sklearn.linear_model import Ridge\n",
    "\n",
    "model1 = Ridge()\n",
    "# define model evaluation method\n",
    "cv = RepeatedKFold(n_splits=10, n_repeats=3, random_state=1)\n",
    "# define grid\n",
    "grid = dict()\n",
    "grid['alpha'] = arange(0, 1, 0.01)\n",
    "# define search\n",
    "search = GridSearchCV(model1, grid, scoring='neg_mean_absolute_error', cv=cv, n_jobs=-1)\n",
    "# perform the search\n",
    "results = search.fit(X_Train, Y_Train)\n",
    "# summarize\n",
    "print('MAE: %.3f' % results.best_score_)\n",
    "print('Config: %s' % results.best_params_)"
   ]
  },
  {
   "cell_type": "code",
   "execution_count": 20,
   "id": "a49b4409",
   "metadata": {},
   "outputs": [
    {
     "data": {
      "text/plain": [
       "-0.031841356982569735"
      ]
     },
     "execution_count": 20,
     "metadata": {},
     "output_type": "execute_result"
    }
   ],
   "source": [
    "from sklearn.metrics import r2_score\n",
    "r2_score(y_true, y_hat)"
   ]
  },
  {
   "cell_type": "code",
   "execution_count": 21,
   "id": "b830e627",
   "metadata": {},
   "outputs": [
    {
     "name": "stdout",
     "output_type": "stream",
     "text": [
      "                                 OLS Regression Results                                \n",
      "=======================================================================================\n",
      "Dep. Variable:             Avg_Change   R-squared (uncentered):                   0.013\n",
      "Model:                            OLS   Adj. R-squared (uncentered):              0.011\n",
      "Method:                 Least Squares   F-statistic:                              7.129\n",
      "Date:                Fri, 14 Jan 2022   Prob (F-statistic):                    1.23e-06\n",
      "Time:                        22:11:41   Log-Likelihood:                          7131.3\n",
      "No. Observations:                2774   AIC:                                 -1.425e+04\n",
      "Df Residuals:                    2769   BIC:                                 -1.422e+04\n",
      "Df Model:                           5                                                  \n",
      "Covariance Type:            nonrobust                                                  \n",
      "=======================================================================================\n",
      "                          coef    std err          t      P>|t|      [0.025      0.975]\n",
      "---------------------------------------------------------------------------------------\n",
      "EMA_8_21_GAP_Perc       0.2913      0.059      4.923      0.000       0.175       0.407\n",
      "ADX                     0.0011      0.002      0.512      0.608      -0.003       0.005\n",
      "CCI                     0.0005      0.000      1.284      0.199      -0.000       0.001\n",
      "BB_UPPER_LOWER_DIFF     0.0350      0.029      1.215      0.225      -0.022       0.092\n",
      "NATR                   -0.0026      0.001     -2.471      0.014      -0.005      -0.001\n",
      "==============================================================================\n",
      "Omnibus:                      454.420   Durbin-Watson:                   0.168\n",
      "Prob(Omnibus):                  0.000   Jarque-Bera (JB):             6330.759\n",
      "Skew:                           0.314   Prob(JB):                         0.00\n",
      "Kurtosis:                      10.374   Cond. No.                         188.\n",
      "==============================================================================\n",
      "\n",
      "Notes:\n",
      "[1] R² is computed without centering (uncentered) since the model does not contain a constant.\n",
      "[2] Standard Errors assume that the covariance matrix of the errors is correctly specified.\n"
     ]
    }
   ],
   "source": [
    "import statsmodels.api as sm\n",
    "mod = sm.OLS(Y_Train, X_Train)\n",
    "res = mod.fit()\n",
    "print(res.summary())\n",
    "y_pred_OLS = res.predict(X_Test).values\n",
    "y_true_OLS = np.squeeze(Y_Test.values)"
   ]
  },
  {
   "cell_type": "code",
   "execution_count": 22,
   "id": "5a08d6f4",
   "metadata": {},
   "outputs": [
    {
     "data": {
      "text/plain": [
       "-0.03246308828348843"
      ]
     },
     "execution_count": 22,
     "metadata": {},
     "output_type": "execute_result"
    }
   ],
   "source": [
    "from sklearn.metrics import r2_score\n",
    "r2_score(y_true_OLS, y_pred_OLS)"
   ]
  },
  {
   "cell_type": "code",
   "execution_count": 23,
   "id": "8a213caa",
   "metadata": {},
   "outputs": [
    {
     "data": {
      "text/plain": [
       "-0.0288059999118202"
      ]
     },
     "execution_count": 23,
     "metadata": {},
     "output_type": "execute_result"
    }
   ],
   "source": [
    "from sklearn.cross_decomposition import PLSRegression\n",
    "from sklearn.metrics import r2_score\n",
    "\n",
    "pls2 = PLSRegression(n_components=2)\n",
    "pls2.fit(X_Train, Y_Train)\n",
    "PLSRegression()\n",
    "Y_pred_PLS = pls2.predict(X_Test)\n",
    "\n",
    "r2_score(y_true, Y_pred_PLS)\n"
   ]
  },
  {
   "cell_type": "code",
   "execution_count": 24,
   "id": "f739fbe1",
   "metadata": {},
   "outputs": [
    {
     "data": {
      "text/html": [
       "<div>\n",
       "<style scoped>\n",
       "    .dataframe tbody tr th:only-of-type {\n",
       "        vertical-align: middle;\n",
       "    }\n",
       "\n",
       "    .dataframe tbody tr th {\n",
       "        vertical-align: top;\n",
       "    }\n",
       "\n",
       "    .dataframe thead th {\n",
       "        text-align: right;\n",
       "    }\n",
       "</style>\n",
       "<table border=\"1\" class=\"dataframe\">\n",
       "  <thead>\n",
       "    <tr style=\"text-align: right;\">\n",
       "      <th></th>\n",
       "      <th>Avg_Change</th>\n",
       "      <th>EMA_8_21_GAP_Perc</th>\n",
       "      <th>ADX</th>\n",
       "      <th>CCI</th>\n",
       "      <th>BB_UPPER_LOWER_DIFF</th>\n",
       "      <th>NATR</th>\n",
       "    </tr>\n",
       "  </thead>\n",
       "  <tbody>\n",
       "    <tr>\n",
       "      <th>Avg_Change</th>\n",
       "      <td>1.000000</td>\n",
       "      <td>0.085299</td>\n",
       "      <td>0.129897</td>\n",
       "      <td>-0.021993</td>\n",
       "      <td>0.069190</td>\n",
       "      <td>0.069785</td>\n",
       "    </tr>\n",
       "    <tr>\n",
       "      <th>EMA_8_21_GAP_Perc</th>\n",
       "      <td>0.085299</td>\n",
       "      <td>1.000000</td>\n",
       "      <td>0.070048</td>\n",
       "      <td>-0.518892</td>\n",
       "      <td>0.388895</td>\n",
       "      <td>0.432460</td>\n",
       "    </tr>\n",
       "    <tr>\n",
       "      <th>ADX</th>\n",
       "      <td>0.129897</td>\n",
       "      <td>0.070048</td>\n",
       "      <td>1.000000</td>\n",
       "      <td>-0.004096</td>\n",
       "      <td>0.254769</td>\n",
       "      <td>0.259833</td>\n",
       "    </tr>\n",
       "    <tr>\n",
       "      <th>CCI</th>\n",
       "      <td>-0.021993</td>\n",
       "      <td>-0.518892</td>\n",
       "      <td>-0.004096</td>\n",
       "      <td>1.000000</td>\n",
       "      <td>-0.167989</td>\n",
       "      <td>-0.124444</td>\n",
       "    </tr>\n",
       "    <tr>\n",
       "      <th>BB_UPPER_LOWER_DIFF</th>\n",
       "      <td>0.069190</td>\n",
       "      <td>0.388895</td>\n",
       "      <td>0.254769</td>\n",
       "      <td>-0.167989</td>\n",
       "      <td>1.000000</td>\n",
       "      <td>0.709988</td>\n",
       "    </tr>\n",
       "    <tr>\n",
       "      <th>NATR</th>\n",
       "      <td>0.069785</td>\n",
       "      <td>0.432460</td>\n",
       "      <td>0.259833</td>\n",
       "      <td>-0.124444</td>\n",
       "      <td>0.709988</td>\n",
       "      <td>1.000000</td>\n",
       "    </tr>\n",
       "  </tbody>\n",
       "</table>\n",
       "</div>"
      ],
      "text/plain": [
       "                     Avg_Change  EMA_8_21_GAP_Perc       ADX       CCI  \\\n",
       "Avg_Change             1.000000           0.085299  0.129897 -0.021993   \n",
       "EMA_8_21_GAP_Perc      0.085299           1.000000  0.070048 -0.518892   \n",
       "ADX                    0.129897           0.070048  1.000000 -0.004096   \n",
       "CCI                   -0.021993          -0.518892 -0.004096  1.000000   \n",
       "BB_UPPER_LOWER_DIFF    0.069190           0.388895  0.254769 -0.167989   \n",
       "NATR                   0.069785           0.432460  0.259833 -0.124444   \n",
       "\n",
       "                     BB_UPPER_LOWER_DIFF      NATR  \n",
       "Avg_Change                      0.069190  0.069785  \n",
       "EMA_8_21_GAP_Perc               0.388895  0.432460  \n",
       "ADX                             0.254769  0.259833  \n",
       "CCI                            -0.167989 -0.124444  \n",
       "BB_UPPER_LOWER_DIFF             1.000000  0.709988  \n",
       "NATR                            0.709988  1.000000  "
      ]
     },
     "execution_count": 24,
     "metadata": {},
     "output_type": "execute_result"
    }
   ],
   "source": [
    "df_fin_train[['Avg_Change','EMA_8_21_GAP_Perc', 'ADX',  'CCI',  'BB_UPPER_LOWER_DIFF','NATR']].corr()\n",
    "#'Perc_Change_Five','Perc_Change_Ten','Perc_Change_Fifteen',"
   ]
  },
  {
   "cell_type": "code",
   "execution_count": 123,
   "id": "e28abcc3",
   "metadata": {},
   "outputs": [
    {
     "data": {
      "text/html": [
       "<div>\n",
       "<style scoped>\n",
       "    .dataframe tbody tr th:only-of-type {\n",
       "        vertical-align: middle;\n",
       "    }\n",
       "\n",
       "    .dataframe tbody tr th {\n",
       "        vertical-align: top;\n",
       "    }\n",
       "\n",
       "    .dataframe thead th {\n",
       "        text-align: right;\n",
       "    }\n",
       "</style>\n",
       "<table border=\"1\" class=\"dataframe\">\n",
       "  <thead>\n",
       "    <tr style=\"text-align: right;\">\n",
       "      <th></th>\n",
       "      <th>EMA_8_21_GAP_Perc</th>\n",
       "      <th>ADX</th>\n",
       "      <th>CCI</th>\n",
       "      <th>BB_UPPER_LOWER_DIFF</th>\n",
       "    </tr>\n",
       "  </thead>\n",
       "  <tbody>\n",
       "    <tr>\n",
       "      <th>2021-09-01 13:15:00+05:30</th>\n",
       "      <td>-0.006263</td>\n",
       "      <td>0.492844</td>\n",
       "      <td>0.588205</td>\n",
       "      <td>0.008401</td>\n",
       "    </tr>\n",
       "    <tr>\n",
       "      <th>2021-09-01 14:15:00+05:30</th>\n",
       "      <td>-0.005468</td>\n",
       "      <td>0.486733</td>\n",
       "      <td>0.239698</td>\n",
       "      <td>0.004307</td>\n",
       "    </tr>\n",
       "    <tr>\n",
       "      <th>2021-09-01 15:15:00+05:30</th>\n",
       "      <td>-0.004719</td>\n",
       "      <td>0.477800</td>\n",
       "      <td>-0.121225</td>\n",
       "      <td>0.005732</td>\n",
       "    </tr>\n",
       "    <tr>\n",
       "      <th>2021-09-02 09:15:00+05:30</th>\n",
       "      <td>-0.004605</td>\n",
       "      <td>0.476226</td>\n",
       "      <td>0.307133</td>\n",
       "      <td>0.006536</td>\n",
       "    </tr>\n",
       "    <tr>\n",
       "      <th>2021-09-02 10:15:00+05:30</th>\n",
       "      <td>-0.004622</td>\n",
       "      <td>0.476687</td>\n",
       "      <td>0.660819</td>\n",
       "      <td>0.008191</td>\n",
       "    </tr>\n",
       "    <tr>\n",
       "      <th>...</th>\n",
       "      <td>...</td>\n",
       "      <td>...</td>\n",
       "      <td>...</td>\n",
       "      <td>...</td>\n",
       "    </tr>\n",
       "    <tr>\n",
       "      <th>2022-01-11 12:15:00+05:30</th>\n",
       "      <td>-0.004717</td>\n",
       "      <td>0.290453</td>\n",
       "      <td>1.023385</td>\n",
       "      <td>0.005549</td>\n",
       "    </tr>\n",
       "    <tr>\n",
       "      <th>2022-01-11 13:15:00+05:30</th>\n",
       "      <td>-0.004731</td>\n",
       "      <td>0.298872</td>\n",
       "      <td>1.098891</td>\n",
       "      <td>0.006003</td>\n",
       "    </tr>\n",
       "    <tr>\n",
       "      <th>2022-01-11 14:15:00+05:30</th>\n",
       "      <td>-0.004592</td>\n",
       "      <td>0.297872</td>\n",
       "      <td>0.860209</td>\n",
       "      <td>0.003403</td>\n",
       "    </tr>\n",
       "    <tr>\n",
       "      <th>2022-01-11 15:15:00+05:30</th>\n",
       "      <td>-0.004407</td>\n",
       "      <td>0.296943</td>\n",
       "      <td>0.967043</td>\n",
       "      <td>0.002983</td>\n",
       "    </tr>\n",
       "    <tr>\n",
       "      <th>2022-01-12 09:15:00+05:30</th>\n",
       "      <td>-0.004881</td>\n",
       "      <td>0.309334</td>\n",
       "      <td>2.131660</td>\n",
       "      <td>0.008255</td>\n",
       "    </tr>\n",
       "  </tbody>\n",
       "</table>\n",
       "<p>626 rows × 4 columns</p>\n",
       "</div>"
      ],
      "text/plain": [
       "                           EMA_8_21_GAP_Perc       ADX       CCI  \\\n",
       "2021-09-01 13:15:00+05:30          -0.006263  0.492844  0.588205   \n",
       "2021-09-01 14:15:00+05:30          -0.005468  0.486733  0.239698   \n",
       "2021-09-01 15:15:00+05:30          -0.004719  0.477800 -0.121225   \n",
       "2021-09-02 09:15:00+05:30          -0.004605  0.476226  0.307133   \n",
       "2021-09-02 10:15:00+05:30          -0.004622  0.476687  0.660819   \n",
       "...                                      ...       ...       ...   \n",
       "2022-01-11 12:15:00+05:30          -0.004717  0.290453  1.023385   \n",
       "2022-01-11 13:15:00+05:30          -0.004731  0.298872  1.098891   \n",
       "2022-01-11 14:15:00+05:30          -0.004592  0.297872  0.860209   \n",
       "2022-01-11 15:15:00+05:30          -0.004407  0.296943  0.967043   \n",
       "2022-01-12 09:15:00+05:30          -0.004881  0.309334  2.131660   \n",
       "\n",
       "                           BB_UPPER_LOWER_DIFF  \n",
       "2021-09-01 13:15:00+05:30             0.008401  \n",
       "2021-09-01 14:15:00+05:30             0.004307  \n",
       "2021-09-01 15:15:00+05:30             0.005732  \n",
       "2021-09-02 09:15:00+05:30             0.006536  \n",
       "2021-09-02 10:15:00+05:30             0.008191  \n",
       "...                                        ...  \n",
       "2022-01-11 12:15:00+05:30             0.005549  \n",
       "2022-01-11 13:15:00+05:30             0.006003  \n",
       "2022-01-11 14:15:00+05:30             0.003403  \n",
       "2022-01-11 15:15:00+05:30             0.002983  \n",
       "2022-01-12 09:15:00+05:30             0.008255  \n",
       "\n",
       "[626 rows x 4 columns]"
      ]
     },
     "execution_count": 123,
     "metadata": {},
     "output_type": "execute_result"
    }
   ],
   "source": [
    "X_Test"
   ]
  },
  {
   "cell_type": "code",
   "execution_count": 25,
   "id": "6dc6c271",
   "metadata": {},
   "outputs": [
    {
     "data": {
      "text/plain": [
       "-0.03246308828348843"
      ]
     },
     "execution_count": 25,
     "metadata": {},
     "output_type": "execute_result"
    }
   ],
   "source": [
    "y_pred = res.predict(X_Test).values\n",
    "y_true = np.squeeze(Y_Test.values)\n",
    "\n",
    "\n",
    "from sklearn.metrics import r2_score\n",
    "r2_score(y_true, y_pred)"
   ]
  },
  {
   "cell_type": "code",
   "execution_count": 26,
   "id": "468fbd54",
   "metadata": {},
   "outputs": [],
   "source": [
    "\n",
    "pred_file = pd.DataFrame(columns =['y_pred', 'y_true'])\n",
    "pred_file['Date'] = res.predict(X_Test).index\n",
    "\n",
    "pred_file['y_pred'] = y_pred_OLS\n",
    "pred_file['y_true'] = y_true_OLS\n",
    "pred_file['Actual_Return'] = df_fin_test.Change_Perc.values\n",
    "pred_file['Actual_Values'] = df_fin_test.Change.values"
   ]
  },
  {
   "cell_type": "code",
   "execution_count": 133,
   "id": "641a7789",
   "metadata": {},
   "outputs": [
    {
     "data": {
      "text/html": [
       "<div>\n",
       "<style scoped>\n",
       "    .dataframe tbody tr th:only-of-type {\n",
       "        vertical-align: middle;\n",
       "    }\n",
       "\n",
       "    .dataframe tbody tr th {\n",
       "        vertical-align: top;\n",
       "    }\n",
       "\n",
       "    .dataframe thead th {\n",
       "        text-align: right;\n",
       "    }\n",
       "</style>\n",
       "<table border=\"1\" class=\"dataframe\">\n",
       "  <thead>\n",
       "    <tr style=\"text-align: right;\">\n",
       "      <th></th>\n",
       "      <th>y_pred</th>\n",
       "      <th>y_true</th>\n",
       "      <th>Date</th>\n",
       "      <th>Actual_Return</th>\n",
       "      <th>Actual_Values</th>\n",
       "    </tr>\n",
       "  </thead>\n",
       "  <tbody>\n",
       "    <tr>\n",
       "      <th>0</th>\n",
       "      <td>-0.002493</td>\n",
       "      <td>-0.010401</td>\n",
       "      <td>2021-09-01 13:15:00+05:30</td>\n",
       "      <td>0.000137</td>\n",
       "      <td>2.349609</td>\n",
       "    </tr>\n",
       "    <tr>\n",
       "      <th>1</th>\n",
       "      <td>-0.002364</td>\n",
       "      <td>-0.012409</td>\n",
       "      <td>2021-09-01 14:15:00+05:30</td>\n",
       "      <td>-0.002903</td>\n",
       "      <td>-49.701172</td>\n",
       "    </tr>\n",
       "    <tr>\n",
       "      <th>2</th>\n",
       "      <td>-0.002299</td>\n",
       "      <td>-0.015081</td>\n",
       "      <td>2021-09-01 15:15:00+05:30</td>\n",
       "      <td>-0.000583</td>\n",
       "      <td>-9.949219</td>\n",
       "    </tr>\n",
       "    <tr>\n",
       "      <th>3</th>\n",
       "      <td>-0.002118</td>\n",
       "      <td>-0.011216</td>\n",
       "      <td>2021-09-02 09:15:00+05:30</td>\n",
       "      <td>0.003933</td>\n",
       "      <td>67.099609</td>\n",
       "    </tr>\n",
       "    <tr>\n",
       "      <th>4</th>\n",
       "      <td>-0.002011</td>\n",
       "      <td>-0.008444</td>\n",
       "      <td>2021-09-02 10:15:00+05:30</td>\n",
       "      <td>0.001457</td>\n",
       "      <td>24.951172</td>\n",
       "    </tr>\n",
       "    <tr>\n",
       "      <th>...</th>\n",
       "      <td>...</td>\n",
       "      <td>...</td>\n",
       "      <td>...</td>\n",
       "      <td>...</td>\n",
       "      <td>...</td>\n",
       "    </tr>\n",
       "    <tr>\n",
       "      <th>621</th>\n",
       "      <td>-0.001491</td>\n",
       "      <td>-0.007628</td>\n",
       "      <td>2022-01-11 12:15:00+05:30</td>\n",
       "      <td>0.001961</td>\n",
       "      <td>35.349609</td>\n",
       "    </tr>\n",
       "    <tr>\n",
       "      <th>622</th>\n",
       "      <td>-0.001489</td>\n",
       "      <td>-0.008533</td>\n",
       "      <td>2022-01-11 13:15:00+05:30</td>\n",
       "      <td>0.000078</td>\n",
       "      <td>1.400391</td>\n",
       "    </tr>\n",
       "    <tr>\n",
       "      <th>623</th>\n",
       "      <td>-0.001513</td>\n",
       "      <td>-0.009071</td>\n",
       "      <td>2022-01-11 14:15:00+05:30</td>\n",
       "      <td>-0.000412</td>\n",
       "      <td>-7.451172</td>\n",
       "    </tr>\n",
       "    <tr>\n",
       "      <th>624</th>\n",
       "      <td>-0.001420</td>\n",
       "      <td>-0.008885</td>\n",
       "      <td>2022-01-11 15:15:00+05:30</td>\n",
       "      <td>0.000050</td>\n",
       "      <td>0.900391</td>\n",
       "    </tr>\n",
       "    <tr>\n",
       "      <th>625</th>\n",
       "      <td>-0.001195</td>\n",
       "      <td>-0.003183</td>\n",
       "      <td>2022-01-12 09:15:00+05:30</td>\n",
       "      <td>0.005321</td>\n",
       "      <td>96.099609</td>\n",
       "    </tr>\n",
       "  </tbody>\n",
       "</table>\n",
       "<p>626 rows × 5 columns</p>\n",
       "</div>"
      ],
      "text/plain": [
       "       y_pred    y_true                      Date  Actual_Return  \\\n",
       "0   -0.002493 -0.010401 2021-09-01 13:15:00+05:30       0.000137   \n",
       "1   -0.002364 -0.012409 2021-09-01 14:15:00+05:30      -0.002903   \n",
       "2   -0.002299 -0.015081 2021-09-01 15:15:00+05:30      -0.000583   \n",
       "3   -0.002118 -0.011216 2021-09-02 09:15:00+05:30       0.003933   \n",
       "4   -0.002011 -0.008444 2021-09-02 10:15:00+05:30       0.001457   \n",
       "..        ...       ...                       ...            ...   \n",
       "621 -0.001491 -0.007628 2022-01-11 12:15:00+05:30       0.001961   \n",
       "622 -0.001489 -0.008533 2022-01-11 13:15:00+05:30       0.000078   \n",
       "623 -0.001513 -0.009071 2022-01-11 14:15:00+05:30      -0.000412   \n",
       "624 -0.001420 -0.008885 2022-01-11 15:15:00+05:30       0.000050   \n",
       "625 -0.001195 -0.003183 2022-01-12 09:15:00+05:30       0.005321   \n",
       "\n",
       "     Actual_Values  \n",
       "0         2.349609  \n",
       "1       -49.701172  \n",
       "2        -9.949219  \n",
       "3        67.099609  \n",
       "4        24.951172  \n",
       "..             ...  \n",
       "621      35.349609  \n",
       "622       1.400391  \n",
       "623      -7.451172  \n",
       "624       0.900391  \n",
       "625      96.099609  \n",
       "\n",
       "[626 rows x 5 columns]"
      ]
     },
     "execution_count": 133,
     "metadata": {},
     "output_type": "execute_result"
    }
   ],
   "source": [
    "pred_file"
   ]
  },
  {
   "cell_type": "code",
   "execution_count": 27,
   "id": "72ebd970",
   "metadata": {},
   "outputs": [
    {
     "data": {
      "text/plain": [
       "<AxesSubplot:>"
      ]
     },
     "execution_count": 27,
     "metadata": {},
     "output_type": "execute_result"
    },
    {
     "data": {
      "image/png": "[encoded data removed]",
      "text/plain": [
       "<Figure size 432x288 with 1 Axes>"
      ]
     },
     "metadata": {
      "needs_background": "light"
     },
     "output_type": "display_data"
    }
   ],
   "source": [
    "pred_file[['y_true','y_pred']].plot()"
   ]
  },
  {
   "cell_type": "code",
   "execution_count": 130,
   "id": "b43bb04e",
   "metadata": {},
   "outputs": [
    {
     "name": "stderr",
     "output_type": "stream",
     "text": [
      "C:\\Users\\Admin\\anaconda3\\lib\\site-packages\\sklearn\\utils\\validation.py:63: DataConversionWarning: A column-vector y was passed when a 1d array was expected. Please change the shape of y to (n_samples, ), for example using ravel().\n",
      "  return f(*args, **kwargs)\n"
     ]
    },
    {
     "ename": "ValueError",
     "evalue": "Unknown label type: (array([-0.100622  , -0.10001137, -0.09906458, ...,  0.10169032,\n        0.10209034,  0.10632134]),)",
     "output_type": "error",
     "traceback": [
      "\u001b[1;31m---------------------------------------------------------------------------\u001b[0m",
      "\u001b[1;31mValueError\u001b[0m                                Traceback (most recent call last)",
      "\u001b[1;32m<ipython-input-130-e800137e57cd>\u001b[0m in \u001b[0;36m<module>\u001b[1;34m\u001b[0m\n\u001b[0;32m      2\u001b[0m \u001b[1;32mfrom\u001b[0m \u001b[0msklearn\u001b[0m \u001b[1;32mimport\u001b[0m \u001b[0mlinear_model\u001b[0m\u001b[1;33m\u001b[0m\u001b[1;33m\u001b[0m\u001b[0m\n\u001b[0;32m      3\u001b[0m \u001b[0mSGDClf\u001b[0m \u001b[1;33m=\u001b[0m \u001b[0mlinear_model\u001b[0m\u001b[1;33m.\u001b[0m\u001b[0mSGDClassifier\u001b[0m\u001b[1;33m(\u001b[0m\u001b[0mmax_iter\u001b[0m \u001b[1;33m=\u001b[0m \u001b[1;36m10\u001b[0m\u001b[1;33m,\u001b[0m \u001b[0mtol\u001b[0m\u001b[1;33m=\u001b[0m\u001b[1;36m1e-3\u001b[0m\u001b[1;33m,\u001b[0m\u001b[0mpenalty\u001b[0m \u001b[1;33m=\u001b[0m \u001b[1;34m\"elasticnet\"\u001b[0m\u001b[1;33m)\u001b[0m\u001b[1;33m\u001b[0m\u001b[1;33m\u001b[0m\u001b[0m\n\u001b[1;32m----> 4\u001b[1;33m \u001b[0mSGDClf\u001b[0m\u001b[1;33m.\u001b[0m\u001b[0mfit\u001b[0m\u001b[1;33m(\u001b[0m\u001b[0mX_Train\u001b[0m\u001b[1;33m,\u001b[0m \u001b[0mY_Train\u001b[0m\u001b[1;33m)\u001b[0m\u001b[1;33m\u001b[0m\u001b[1;33m\u001b[0m\u001b[0m\n\u001b[0m",
      "\u001b[1;32m~\\anaconda3\\lib\\site-packages\\sklearn\\linear_model\\_stochastic_gradient.py\u001b[0m in \u001b[0;36mfit\u001b[1;34m(self, X, y, coef_init, intercept_init, sample_weight)\u001b[0m\n\u001b[0;32m    727\u001b[0m             \u001b[0mReturns\u001b[0m \u001b[0man\u001b[0m \u001b[0minstance\u001b[0m \u001b[0mof\u001b[0m \u001b[0mself\u001b[0m\u001b[1;33m.\u001b[0m\u001b[1;33m\u001b[0m\u001b[1;33m\u001b[0m\u001b[0m\n\u001b[0;32m    728\u001b[0m         \"\"\"\n\u001b[1;32m--> 729\u001b[1;33m         return self._fit(X, y, alpha=self.alpha, C=1.0,\n\u001b[0m\u001b[0;32m    730\u001b[0m                          \u001b[0mloss\u001b[0m\u001b[1;33m=\u001b[0m\u001b[0mself\u001b[0m\u001b[1;33m.\u001b[0m\u001b[0mloss\u001b[0m\u001b[1;33m,\u001b[0m \u001b[0mlearning_rate\u001b[0m\u001b[1;33m=\u001b[0m\u001b[0mself\u001b[0m\u001b[1;33m.\u001b[0m\u001b[0mlearning_rate\u001b[0m\u001b[1;33m,\u001b[0m\u001b[1;33m\u001b[0m\u001b[1;33m\u001b[0m\u001b[0m\n\u001b[0;32m    731\u001b[0m                          \u001b[0mcoef_init\u001b[0m\u001b[1;33m=\u001b[0m\u001b[0mcoef_init\u001b[0m\u001b[1;33m,\u001b[0m \u001b[0mintercept_init\u001b[0m\u001b[1;33m=\u001b[0m\u001b[0mintercept_init\u001b[0m\u001b[1;33m,\u001b[0m\u001b[1;33m\u001b[0m\u001b[1;33m\u001b[0m\u001b[0m\n",
      "\u001b[1;32m~\\anaconda3\\lib\\site-packages\\sklearn\\linear_model\\_stochastic_gradient.py\u001b[0m in \u001b[0;36m_fit\u001b[1;34m(self, X, y, alpha, C, loss, learning_rate, coef_init, intercept_init, sample_weight)\u001b[0m\n\u001b[0;32m    567\u001b[0m         \u001b[0mself\u001b[0m\u001b[1;33m.\u001b[0m\u001b[0mt_\u001b[0m \u001b[1;33m=\u001b[0m \u001b[1;36m1.0\u001b[0m\u001b[1;33m\u001b[0m\u001b[1;33m\u001b[0m\u001b[0m\n\u001b[0;32m    568\u001b[0m \u001b[1;33m\u001b[0m\u001b[0m\n\u001b[1;32m--> 569\u001b[1;33m         self._partial_fit(X, y, alpha, C, loss, learning_rate, self.max_iter,\n\u001b[0m\u001b[0;32m    570\u001b[0m                           classes, sample_weight, coef_init, intercept_init)\n\u001b[0;32m    571\u001b[0m \u001b[1;33m\u001b[0m\u001b[0m\n",
      "\u001b[1;32m~\\anaconda3\\lib\\site-packages\\sklearn\\linear_model\\_stochastic_gradient.py\u001b[0m in \u001b[0;36m_partial_fit\u001b[1;34m(self, X, y, alpha, C, loss, learning_rate, max_iter, classes, sample_weight, coef_init, intercept_init)\u001b[0m\n\u001b[0;32m    497\u001b[0m         \u001b[0mn_samples\u001b[0m\u001b[1;33m,\u001b[0m \u001b[0mn_features\u001b[0m \u001b[1;33m=\u001b[0m \u001b[0mX\u001b[0m\u001b[1;33m.\u001b[0m\u001b[0mshape\u001b[0m\u001b[1;33m\u001b[0m\u001b[1;33m\u001b[0m\u001b[0m\n\u001b[0;32m    498\u001b[0m \u001b[1;33m\u001b[0m\u001b[0m\n\u001b[1;32m--> 499\u001b[1;33m         \u001b[0m_check_partial_fit_first_call\u001b[0m\u001b[1;33m(\u001b[0m\u001b[0mself\u001b[0m\u001b[1;33m,\u001b[0m \u001b[0mclasses\u001b[0m\u001b[1;33m)\u001b[0m\u001b[1;33m\u001b[0m\u001b[1;33m\u001b[0m\u001b[0m\n\u001b[0m\u001b[0;32m    500\u001b[0m \u001b[1;33m\u001b[0m\u001b[0m\n\u001b[0;32m    501\u001b[0m         \u001b[0mn_classes\u001b[0m \u001b[1;33m=\u001b[0m \u001b[0mself\u001b[0m\u001b[1;33m.\u001b[0m\u001b[0mclasses_\u001b[0m\u001b[1;33m.\u001b[0m\u001b[0mshape\u001b[0m\u001b[1;33m[\u001b[0m\u001b[1;36m0\u001b[0m\u001b[1;33m]\u001b[0m\u001b[1;33m\u001b[0m\u001b[1;33m\u001b[0m\u001b[0m\n",
      "\u001b[1;32m~\\anaconda3\\lib\\site-packages\\sklearn\\utils\\multiclass.py\u001b[0m in \u001b[0;36m_check_partial_fit_first_call\u001b[1;34m(clf, classes)\u001b[0m\n\u001b[0;32m    337\u001b[0m         \u001b[1;32melse\u001b[0m\u001b[1;33m:\u001b[0m\u001b[1;33m\u001b[0m\u001b[1;33m\u001b[0m\u001b[0m\n\u001b[0;32m    338\u001b[0m             \u001b[1;31m# This is the first call to partial_fit\u001b[0m\u001b[1;33m\u001b[0m\u001b[1;33m\u001b[0m\u001b[1;33m\u001b[0m\u001b[0m\n\u001b[1;32m--> 339\u001b[1;33m             \u001b[0mclf\u001b[0m\u001b[1;33m.\u001b[0m\u001b[0mclasses_\u001b[0m \u001b[1;33m=\u001b[0m \u001b[0munique_labels\u001b[0m\u001b[1;33m(\u001b[0m\u001b[0mclasses\u001b[0m\u001b[1;33m)\u001b[0m\u001b[1;33m\u001b[0m\u001b[1;33m\u001b[0m\u001b[0m\n\u001b[0m\u001b[0;32m    340\u001b[0m             \u001b[1;32mreturn\u001b[0m \u001b[1;32mTrue\u001b[0m\u001b[1;33m\u001b[0m\u001b[1;33m\u001b[0m\u001b[0m\n\u001b[0;32m    341\u001b[0m \u001b[1;33m\u001b[0m\u001b[0m\n",
      "\u001b[1;32m~\\anaconda3\\lib\\site-packages\\sklearn\\utils\\multiclass.py\u001b[0m in \u001b[0;36munique_labels\u001b[1;34m(*ys)\u001b[0m\n\u001b[0;32m     96\u001b[0m     \u001b[0m_unique_labels\u001b[0m \u001b[1;33m=\u001b[0m \u001b[0m_FN_UNIQUE_LABELS\u001b[0m\u001b[1;33m.\u001b[0m\u001b[0mget\u001b[0m\u001b[1;33m(\u001b[0m\u001b[0mlabel_type\u001b[0m\u001b[1;33m,\u001b[0m \u001b[1;32mNone\u001b[0m\u001b[1;33m)\u001b[0m\u001b[1;33m\u001b[0m\u001b[1;33m\u001b[0m\u001b[0m\n\u001b[0;32m     97\u001b[0m     \u001b[1;32mif\u001b[0m \u001b[1;32mnot\u001b[0m \u001b[0m_unique_labels\u001b[0m\u001b[1;33m:\u001b[0m\u001b[1;33m\u001b[0m\u001b[1;33m\u001b[0m\u001b[0m\n\u001b[1;32m---> 98\u001b[1;33m         \u001b[1;32mraise\u001b[0m \u001b[0mValueError\u001b[0m\u001b[1;33m(\u001b[0m\u001b[1;34m\"Unknown label type: %s\"\u001b[0m \u001b[1;33m%\u001b[0m \u001b[0mrepr\u001b[0m\u001b[1;33m(\u001b[0m\u001b[0mys\u001b[0m\u001b[1;33m)\u001b[0m\u001b[1;33m)\u001b[0m\u001b[1;33m\u001b[0m\u001b[1;33m\u001b[0m\u001b[0m\n\u001b[0m\u001b[0;32m     99\u001b[0m \u001b[1;33m\u001b[0m\u001b[0m\n\u001b[0;32m    100\u001b[0m     \u001b[0mys_labels\u001b[0m \u001b[1;33m=\u001b[0m \u001b[0mset\u001b[0m\u001b[1;33m(\u001b[0m\u001b[0mchain\u001b[0m\u001b[1;33m.\u001b[0m\u001b[0mfrom_iterable\u001b[0m\u001b[1;33m(\u001b[0m\u001b[0m_unique_labels\u001b[0m\u001b[1;33m(\u001b[0m\u001b[0my\u001b[0m\u001b[1;33m)\u001b[0m \u001b[1;32mfor\u001b[0m \u001b[0my\u001b[0m \u001b[1;32min\u001b[0m \u001b[0mys\u001b[0m\u001b[1;33m)\u001b[0m\u001b[1;33m)\u001b[0m\u001b[1;33m\u001b[0m\u001b[1;33m\u001b[0m\u001b[0m\n",
      "\u001b[1;31mValueError\u001b[0m: Unknown label type: (array([-0.100622  , -0.10001137, -0.09906458, ...,  0.10169032,\n        0.10209034,  0.10632134]),)"
     ]
    }
   ],
   "source": [
    "\n",
    "import numpy as np\n",
    "from sklearn import linear_model\n",
    "SGDClf = linear_model.SGDClassifier(max_iter = 10, tol=1e-3,penalty = \"elasticnet\")\n",
    "SGDClf.fit(X_Train, Y_Train)"
   ]
  },
  {
   "cell_type": "code",
   "execution_count": 127,
   "id": "d431c237",
   "metadata": {},
   "outputs": [],
   "source": [
    "pred_file.to_csv('model_pred2.csv')"
   ]
  },
  {
   "cell_type": "code",
   "execution_count": 113,
   "id": "ac9f5547",
   "metadata": {},
   "outputs": [],
   "source": [
    "df.to_csv('data_16012020.csv')"
   ]
  },
  {
   "cell_type": "code",
   "execution_count": 39,
   "id": "54a9cd75",
   "metadata": {},
   "outputs": [
    {
     "data": {
      "text/plain": [
       "BayesianRidge()"
      ]
     },
     "execution_count": 39,
     "metadata": {},
     "output_type": "execute_result"
    }
   ],
   "source": [
    "from sklearn import linear_model\n",
    "reg = linear_model.BayesianRidge()\n",
    "reg.fit(X_Train, Y_Train.Avg_Change)\n"
   ]
  },
  {
   "cell_type": "code",
   "execution_count": 46,
   "id": "57c1358d",
   "metadata": {},
   "outputs": [],
   "source": [
    "y_hat_bayesian = reg.predict(X_Test)"
   ]
  },
  {
   "cell_type": "code",
   "execution_count": 47,
   "id": "d81eae0f",
   "metadata": {},
   "outputs": [
    {
     "data": {
      "text/plain": [
       "-0.013877924348577153"
      ]
     },
     "execution_count": 47,
     "metadata": {},
     "output_type": "execute_result"
    }
   ],
   "source": [
    "from sklearn.metrics import r2_score\n",
    "r2_score(y_true, y_hat_bayesian)"
   ]
  },
  {
   "cell_type": "code",
   "execution_count": null,
   "id": "09eab9fa",
   "metadata": {},
   "outputs": [],
   "source": [
    "pred_file[['y_true','y_pred']].plot()"
   ]
  }
 ],
 "metadata": {
  "kernelspec": {
   "display_name": "Python 3",
   "language": "python",
   "name": "python3"
  },
  "language_info": {
   "codemirror_mode": {
    "name": "ipython",
    "version": 3
   },
   "file_extension": ".py",
   "mimetype": "text/x-python",
   "name": "python",
   "nbconvert_exporter": "python",
   "pygments_lexer": "ipython3",
   "version": "3.8.8"
  }
 },
 "nbformat": 4,
 "nbformat_minor": 5
}
