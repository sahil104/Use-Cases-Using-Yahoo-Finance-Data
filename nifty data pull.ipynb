{
 "cells": [
  {
   "cell_type": "code",
   "execution_count": 1,
   "id": "6c2d5658",
   "metadata": {},
   "outputs": [],
   "source": [
    "import datetime as dt\n",
    "import matplotlib.pyplot as plt\n",
    "from matplotlib import style\n",
    "import datetime\n",
    "import numpy as np\n",
    "import yfinance as yf\n",
    "import pandas as pd"
   ]
  },
  {
   "cell_type": "code",
   "execution_count": 2,
   "id": "ec81c15e",
   "metadata": {},
   "outputs": [
    {
     "data": {
      "text/plain": [
       "'2022-01-10'"
      ]
     },
     "execution_count": 2,
     "metadata": {},
     "output_type": "execute_result"
    }
   ],
   "source": [
    "from datetime import datetime, timedelta\n",
    "tomorrow = datetime.today() + timedelta(1)\n",
    "tomorrow.strftime('%Y-%m-%d')"
   ]
  },
  {
   "cell_type": "code",
   "execution_count": 5,
   "id": "cc5b4740",
   "metadata": {},
   "outputs": [
    {
     "name": "stdout",
     "output_type": "stream",
     "text": [
      "[*********************100%***********************]  1 of 1 completed\n",
      "\n",
      "1 Failed download:\n",
      "- ^NSEI: 1h data not available for startTime=1517423400 and endTime=1641672791. The requested range must be within the last 730 days.\n"
     ]
    }
   ],
   "source": [
    "df_nifty = yf.download('^NSEI',start= \"2018-02-01\",end = tomorrow.strftime('%Y-%m-%d'), interval = '1h' )"
   ]
  },
  {
   "cell_type": "code",
   "execution_count": 22,
   "id": "1151c92a",
   "metadata": {},
   "outputs": [],
   "source": [
    "datestr = datetime.today().strftime(\"%Y%m%d\")\n",
    "df_nifty.to_csv('nifty_{}.csv'.format(datestr))"
   ]
  },
  {
   "cell_type": "code",
   "execution_count": 6,
   "id": "1866cd00",
   "metadata": {},
   "outputs": [
    {
     "name": "stdout",
     "output_type": "stream",
     "text": [
      "[*********************100%***********************]  1 of 1 completed\n"
     ]
    }
   ],
   "source": [
    "df_eth = yf.download('ETH-USD',start= \"2020-02-01\",end = tomorrow.strftime('%Y-%m-%d'), interval = '1h' )"
   ]
  },
  {
   "cell_type": "code",
   "execution_count": 7,
   "id": "5f2c8feb",
   "metadata": {},
   "outputs": [],
   "source": [
    "datestr = datetime.today().strftime(\"%Y%m%d\")\n",
    "df_eth.to_csv('eth_{}.csv'.format(datestr))"
   ]
  },
  {
   "cell_type": "code",
   "execution_count": null,
   "id": "3dbd9c45",
   "metadata": {},
   "outputs": [],
   "source": []
  }
 ],
 "metadata": {
  "kernelspec": {
   "display_name": "Python 3",
   "language": "python",
   "name": "python3"
  },
  "language_info": {
   "codemirror_mode": {
    "name": "ipython",
    "version": 3
   },
   "file_extension": ".py",
   "mimetype": "text/x-python",
   "name": "python",
   "nbconvert_exporter": "python",
   "pygments_lexer": "ipython3",
   "version": "3.8.8"
  }
 },
 "nbformat": 4,
 "nbformat_minor": 5
}
